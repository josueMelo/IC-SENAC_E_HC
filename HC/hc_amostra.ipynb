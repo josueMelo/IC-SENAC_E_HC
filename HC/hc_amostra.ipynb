{
 "cells": [
  {
   "cell_type": "code",
   "execution_count": 240,
   "metadata": {
    "id": "KLCGsdX_W_H9"
   },
   "outputs": [],
   "source": [
    "\"\"\"\n",
    "Higor Viana\n",
    "Josue Melo\n",
    "TCC do BCC: Senac & HC\n",
    "\"\"\"\n",
    "\n",
    "#bibliotecas usadas\n",
    "import pandas as pd\n",
    "from openpyxl import load_workbook\n",
    "from collections import Counter\n",
    "import datetime \n",
    "import numpy as np"
   ]
  },
  {
   "cell_type": "code",
   "execution_count": 241,
   "metadata": {
    "id": "vT3F0TUG8Tvz"
   },
   "outputs": [],
   "source": [
    "wb = load_workbook(\"amostra.xlsx\", data_only=True) #carregamento e leitura da planilha\n",
    "sh = wb[\"amostra\"] #seleção do primeira (ou ativa) aba do arquivo .xlsx"
   ]
  },
  {
   "cell_type": "code",
   "execution_count": 253,
   "metadata": {
    "id": "-211CQB9jJGX"
   },
   "outputs": [],
   "source": [
    "#def gerador_lista():\n",
    "lista = [] #lista que armazenará valores da planilha\n",
    "for linha in range(2,sh.max_row+1): #linha inicia no 2 para armazenagem (descartando rotulos das colunas)\n",
    "\n",
    "#'Time' : sh.cell(linha,1).value, \n",
    "#'Protocol' : sh.cell(linha,2).value, \n",
    "#'Source' : sh.cell(linha,3).value, \n",
    "#'Destination' : sh.cell(linha,4).value, \n",
    "#'Hardware Source' : sh.cell(linha,5).value,          \n",
    "#'Hardware Destination' : sh.cell(linha,6).value, \n",
    "#'VLAN' : sh.cell(linha,7).value}, \n",
    "#'Lenght' : sh.cell(linha,8).value}, bytes\n",
    "#'Info' : sh.cell(linha,9).value}\n",
    "  lista.append((\n",
    "    sh.cell(linha,1).value,   \n",
    "    sh.cell(linha,2).value, \n",
    "    sh.cell(linha,3).value, \n",
    "    sh.cell(linha,4).value, \n",
    "    sh.cell(linha,5).value, \n",
    "    sh.cell(linha,6).value,      \n",
    "    sh.cell(linha,7).value, \n",
    "    sh.cell(linha,8).value, \n",
    "    sh.cell(linha,9).value))"
   ]
  },
  {
   "cell_type": "code",
   "execution_count": 254,
   "metadata": {
    "id": "5bEWrEb4xbqi"
   },
   "outputs": [],
   "source": [
    "def verifica_maiores(x):\n",
    "  #variavel para armazenar temporariamente os IPs\n",
    "  temp_ips = []\n",
    "  #input para escolher entre IP remetente e destinatario\n",
    "  coluna = input(\"Escolha qual deseja visualizar:\\n1 - Source\\n2 - Destionation\\n> \")\n",
    "  #se inserido cod errado, retorne \n",
    "  if coluna!=\"1\" and coluna !=\"2\": return\n",
    "\n",
    "  for i in range(0,len(lista)):\n",
    "    temp_ips.append(lista[i][int(coluna)+1])\n",
    "  temp_ips.sort() #ordena os IPs de forma crescente (facilitando a busca)\n",
    "\n",
    "  h = Counter(temp_ips) #conta IP com sua frequencia (em forma de dicionario)\n",
    "  s = h.most_common() #organiza de forma decrescente a frequencia de cada IP para descobrir maiores valores\n",
    "  print(\"Os \" + str(x) + \" IPs \"  + str(sh.cell(1,int(coluna)+2).value) + \" mais frequentes foram:\")\n",
    "  for i in range(0,x):\n",
    "    print(str(i+1) + \" - \" + str(s[i])) #IP e sua frequencia\n",
    "  x = input(\"Para visualizar mais informações sobre um IP específico, digite seu ID e pressione ENTER:\\n> \")\n",
    "\n",
    "  armazena_resumos = [] \n",
    "  for i in range(0,len(lista)):\n",
    "    #comparação para saber se valor armazenado é o mesmo que desejado na busca\n",
    "    if s[int(x)-1][0] == lista[i][int(coluna)+1]: armazena_resumos.append(lista[i]) \n",
    "  print(\"Resumos do IP \" + str(s[int(x)-1][0]) + \":\")\n",
    "  gerador_resumo(armazena_resumos, 0) #gera os resumos de cada IP"
   ]
  },
  {
   "cell_type": "code",
   "execution_count": 1,
   "metadata": {
    "id": "BHF8eFSYy2TE"
   },
   "outputs": [],
   "source": [
    "def gerador_resumo(armazena_resumos, j):\n",
    "  limite = j+4500 #limite da quantidade de informação impressa\n",
    "  while j < len(armazena_resumos):\n",
    "    if j>limite: break #impede sobrecarga\n",
    "    #impressão que mostra os detalhes referentes ao IP escolhido\n",
    "    print(str(j+1) + \" - \" + \n",
    "          str(armazena_resumos[j][4]) + \"-\" + str(armazena_resumos[j][2]) + \"-\" + \n",
    "          str(armazena_resumos[j][5]) + \"-\" + str(armazena_resumos[j][3]) + \"-\" + \n",
    "          str(armazena_resumos[j][0]) + \"-\" + \n",
    "          str(armazena_resumos[j][1]) + \"-\" + str(armazena_resumos[j][8]) +\n",
    "          \"-\" + str(armazena_resumos[j][7]) + \"-\" + str(armazena_resumos[j][6]))\n",
    "\n",
    "    j+=1\n",
    "  x = input(\"Mostrando \" + str(j) + \" resultados. Deseja continuar visualizando? (S/N)\\n> \")\n",
    "  if x==\"S\" or x==\"s\": \n",
    "    if j<len(armazena_resumos): \n",
    "      gerador_resumo(armazena_resumos, j)"
   ]
  },
  {
   "cell_type": "code",
   "execution_count": 3,
   "metadata": {
    "id": "ZM96ncOBhVMY"
   },
   "outputs": [],
   "source": [
    "def menu():\n",
    "  x = int(input(\"Vamos começar! Quantos IPs gostaria de visualizar? ex.: 5\\n> \"))\n",
    "  if x<=0: return\n",
    "  verifica_maiores(x)"
   ]
  },
  {
   "cell_type": "code",
   "execution_count": 4,
   "metadata": {
    "id": "fETHdP2AiEPU"
   },
   "outputs": [
    {
     "name": "stdout",
     "output_type": "stream",
     "text": [
      "Vamos começar! Quantos IPs gostaria de visualizar? ex.: 5\n",
      "> 5\n"
     ]
    },
    {
     "ename": "NameError",
     "evalue": "name 'verifica_maiores' is not defined",
     "output_type": "error",
     "traceback": [
      "\u001b[1;31m---------------------------------------------------------------------------\u001b[0m",
      "\u001b[1;31mNameError\u001b[0m                                 Traceback (most recent call last)",
      "\u001b[1;32m<ipython-input-4-6e28baed3594>\u001b[0m in \u001b[0;36m<module>\u001b[1;34m\u001b[0m\n\u001b[1;32m----> 1\u001b[1;33m \u001b[0mmenu\u001b[0m\u001b[1;33m(\u001b[0m\u001b[1;33m)\u001b[0m\u001b[1;33m\u001b[0m\u001b[1;33m\u001b[0m\u001b[0m\n\u001b[0m",
      "\u001b[1;32m<ipython-input-3-e27fb6e2abf9>\u001b[0m in \u001b[0;36mmenu\u001b[1;34m()\u001b[0m\n\u001b[0;32m      2\u001b[0m   \u001b[0mx\u001b[0m \u001b[1;33m=\u001b[0m \u001b[0mint\u001b[0m\u001b[1;33m(\u001b[0m\u001b[0minput\u001b[0m\u001b[1;33m(\u001b[0m\u001b[1;34m\"Vamos começar! Quantos IPs gostaria de visualizar? ex.: 5\\n> \"\u001b[0m\u001b[1;33m)\u001b[0m\u001b[1;33m)\u001b[0m\u001b[1;33m\u001b[0m\u001b[1;33m\u001b[0m\u001b[0m\n\u001b[0;32m      3\u001b[0m   \u001b[1;32mif\u001b[0m \u001b[0mx\u001b[0m\u001b[1;33m<=\u001b[0m\u001b[1;36m0\u001b[0m\u001b[1;33m:\u001b[0m \u001b[1;32mreturn\u001b[0m\u001b[1;33m\u001b[0m\u001b[1;33m\u001b[0m\u001b[0m\n\u001b[1;32m----> 4\u001b[1;33m   \u001b[0mverifica_maiores\u001b[0m\u001b[1;33m(\u001b[0m\u001b[0mx\u001b[0m\u001b[1;33m)\u001b[0m\u001b[1;33m\u001b[0m\u001b[1;33m\u001b[0m\u001b[0m\n\u001b[0m",
      "\u001b[1;31mNameError\u001b[0m: name 'verifica_maiores' is not defined"
     ]
    }
   ],
   "source": [
    "menu() "
   ]
  },
  {
   "cell_type": "code",
   "execution_count": null,
   "metadata": {},
   "outputs": [],
   "source": []
  }
 ],
 "metadata": {
  "colab": {
   "collapsed_sections": [],
   "name": "hcc-amostra.ipynb",
   "provenance": []
  },
  "kernelspec": {
   "display_name": "Python 3",
   "language": "python",
   "name": "python3"
  },
  "language_info": {
   "codemirror_mode": {
    "name": "ipython",
    "version": 3
   },
   "file_extension": ".py",
   "mimetype": "text/x-python",
   "name": "python",
   "nbconvert_exporter": "python",
   "pygments_lexer": "ipython3",
   "version": "3.8.8"
  }
 },
 "nbformat": 4,
 "nbformat_minor": 1
}
