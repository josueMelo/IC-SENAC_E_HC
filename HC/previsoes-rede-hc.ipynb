{
 "cells": [
  {
   "cell_type": "code",
   "execution_count": null,
   "metadata": {
    "executionInfo": {
     "elapsed": 74512,
     "status": "ok",
     "timestamp": 1627316633307,
     "user": {
      "displayName": "Josué Melo",
      "photoUrl": "https://lh3.googleusercontent.com/a-/AOh14GhKvjme3q10pH8Vl_3RbRkSC7a2-uJQ7aNVor1lDao=s64",
      "userId": "11914837113108629015"
     },
     "user_tz": 180
    },
    "id": "KLCGsdX_W_H9"
   },
   "outputs": [],
   "source": [
    "\"\"\"\n",
    "Higor Viana\n",
    "Josue Melo\n",
    "TCC do BCC: Senac & HC\n",
    "\"\"\"\n",
    "\n",
    "import pandas as pd\n",
    "from openpyxl import load_workbook\n",
    "\n",
    "wb = load_workbook(\"amostra.xlsx\", data_only=True)\n",
    "sh = wb[\"amostra\"]"
   ]
  },
  {
   "cell_type": "code",
   "execution_count": 2,
   "metadata": {
    "executionInfo": {
     "elapsed": 375,
     "status": "ok",
     "timestamp": 1627315197121,
     "user": {
      "displayName": "Josué Melo",
      "photoUrl": "https://lh3.googleusercontent.com/a-/AOh14GhKvjme3q10pH8Vl_3RbRkSC7a2-uJQ7aNVor1lDao=s64",
      "userId": "11914837113108629015"
     },
     "user_tz": 180
    },
    "id": "ZM96ncOBhVMY"
   },
   "outputs": [],
   "source": [
    "def menu():\n",
    "  x = input(\"Selecione uma opcao:\\n1 - IP Source\\n2 - IP Destionation\\n> \")\n",
    "  if(x==\"1\"): \n",
    "    print(1)\n",
    "  elif(x==\"2\"): \n",
    "    print(2)\n",
    "  else: \n",
    "    print(\"Opcao invalida!\\n\")\n",
    "    menu()"
   ]
  },
  {
   "cell_type": "code",
   "execution_count": null,
   "metadata": {
    "id": "fETHdP2AiEPU"
   },
   "outputs": [],
   "source": [
    "menu()"
   ]
  },
  {
   "cell_type": "code",
   "execution_count": null,
   "metadata": {
    "colab": {
     "base_uri": "https://localhost:8080/"
    },
    "executionInfo": {
     "elapsed": 2302,
     "status": "ok",
     "timestamp": 1627317823811,
     "user": {
      "displayName": "Josué Melo",
      "photoUrl": "https://lh3.googleusercontent.com/a-/AOh14GhKvjme3q10pH8Vl_3RbRkSC7a2-uJQ7aNVor1lDao=s64",
      "userId": "11914837113108629015"
     },
     "user_tz": 180
    },
    "id": "-211CQB9jJGX",
    "outputId": "efb1a9e1-ac27-4d76-9b9d-4c7e3fd695da"
   },
   "outputs": [],
   "source": [
    "sources = []\n",
    "protocolos = []\n",
    "linha=2\n",
    "for row in range(linha,sh.max_row+1):\n",
    "  #dia\n",
    "  dias.append(sh.cell(linha,1).value)\n",
    "  #hora\n",
    "  horarios.append(sh.cell(linha,2).value)\n",
    "  #source\n",
    "  sources.append(sh.cell(linha,3).value)\n",
    "  #destionation\n",
    "  destionations.append(sh.cell(linha,4).value)\n",
    "  #protocolo\n",
    "  protocolos.append(sh.cell(linha,5).value)\n",
    "  #tamanho\n",
    "  tamanhos.append(sh.cell(linha,6).value)\n",
    "  #info\n",
    "  infos.append(sh.cell(linha,7).value)\n",
    "  \n",
    "  linha = linha + 1"
   ]
  },
  {
   "cell_type": "code",
   "execution_count": null,
   "metadata": {
    "colab": {
     "base_uri": "https://localhost:8080/"
    },
    "executionInfo": {
     "elapsed": 384,
     "status": "ok",
     "timestamp": 1627320941377,
     "user": {
      "displayName": "Josué Melo",
      "photoUrl": "https://lh3.googleusercontent.com/a-/AOh14GhKvjme3q10pH8Vl_3RbRkSC7a2-uJQ7aNVor1lDao=s64",
      "userId": "11914837113108629015"
     },
     "user_tz": 180
    },
    "id": "5bEWrEb4xbqi",
    "outputId": "232fcf53-cb53-4fe7-ffaf-dae1fca570f1"
   },
   "outputs": [],
   "source": [
    "#print(sources.count(\"10.65.136.128\"))\n",
    "print(len(sources))\n",
    "sources.sort()\n",
    "print(len(sources))"
   ]
  }
 ],
 "metadata": {
  "colab": {
   "authorship_tag": "ABX9TyMIW2hyo4JVMcSjnyiTxKFC",
   "collapsed_sections": [],
   "name": "Untitled2.ipynb",
   "provenance": []
  },
  "kernelspec": {
   "display_name": "Python 3",
   "language": "python",
   "name": "python3"
  },
  "language_info": {
   "codemirror_mode": {
    "name": "ipython",
    "version": 3
   },
   "file_extension": ".py",
   "mimetype": "text/x-python",
   "name": "python",
   "nbconvert_exporter": "python",
   "pygments_lexer": "ipython3",
   "version": "3.8.8"
  }
 },
 "nbformat": 4,
 "nbformat_minor": 1
}
