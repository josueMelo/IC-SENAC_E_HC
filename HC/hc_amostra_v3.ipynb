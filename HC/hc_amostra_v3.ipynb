{
 "cells": [
  {
   "cell_type": "code",
   "execution_count": 4,
   "metadata": {
    "id": "KLCGsdX_W_H9"
   },
   "outputs": [],
   "source": [
    "\"\"\"\n",
    "Higor Viana\n",
    "Josue Melo\n",
    "TCC do BCC: Senac & HC\n",
    "\"\"\"\n",
    "\n",
    "#bibliotecas usadas\n",
    "import pandas as pd\n",
    "from openpyxl import Workbook, load_workbook\n",
    "from openpyxl.styles import Color, PatternFill, Font, Border\n",
    "from openpyxl.styles import colors\n",
    "from openpyxl.cell import Cell\n",
    "from collections import Counter\n",
    "import datetime \n",
    "import numpy as np\n",
    "import string"
   ]
  },
  {
   "cell_type": "code",
   "execution_count": 5,
   "metadata": {
    "id": "vT3F0TUG8Tvz"
   },
   "outputs": [],
   "source": [
    "wb = load_workbook(\"amostra.xlsx\", data_only=True) #carregamento e leitura da planilha\n",
    "sh = wb[\"amostra\"] #seleção do primeira (ou ativa) aba do arquivo .xlsx"
   ]
  },
  {
   "cell_type": "code",
   "execution_count": 6,
   "metadata": {
    "colab": {
     "base_uri": "https://localhost:8080/"
    },
    "id": "-211CQB9jJGX",
    "outputId": "fe057f17-aa10-4cb3-ed52-a43505b0b6e5"
   },
   "outputs": [
    {
     "name": "stdout",
     "output_type": "stream",
     "text": [
      "('Time', 'Protocol', 'IP Source', 'IP Destination', 'Hardware Source', 'Hardware Destionation', 'VLAN', 'Length', 'Info')\n"
     ]
    }
   ],
   "source": [
    "#def gerador_lista():\n",
    "#rotulos = []\n",
    "lista = [] #lista que armazenará valores da planilha\n",
    "for linha in range(1,sh.max_row+1): #linha inicia no 2 para armazenagem (descartando rotulos das colunas)\n",
    "#for i in range(1,sh.max_column): \n",
    "#'Time' : sh.cell(linha,1).value, \n",
    "#'Protocol' : sh.cell(linha,2).value, \n",
    "#'Source' : sh.cell(linha,3).value, \n",
    "#'Destination' : sh.cell(linha,4).value, \n",
    "#'Hardware Source' : sh.cell(linha,5).value,          \n",
    "#'Hardware Destination' : sh.cell(linha,6).value, \n",
    "#'VLAN' : sh.cell(linha,7).value}, \n",
    "#'Lenght' : sh.cell(linha,8).value}, bytes\n",
    "#'Info' : sh.cell(linha,9).value}\n",
    "  lista.append((\n",
    "    sh.cell(linha,1).value,   \n",
    "    sh.cell(linha,2).value, \n",
    "    sh.cell(linha,3).value, \n",
    "    sh.cell(linha,4).value, \n",
    "    sh.cell(linha,5).value, \n",
    "    sh.cell(linha,6).value,      \n",
    "    sh.cell(linha,7).value, \n",
    "    sh.cell(linha,8).value, \n",
    "    sh.cell(linha,9).value))\n",
    "print(lista[0])"
   ]
  },
  {
   "cell_type": "code",
   "execution_count": 83,
   "metadata": {
    "id": "5bEWrEb4xbqi"
   },
   "outputs": [],
   "source": [
    "def verifica_maiores(x):\n",
    "  #variavel para armazenar temporariamente os IPs\n",
    "  filtro = []\n",
    "  #input para escolher entre IP remetente e destinatario\n",
    "  print(\"Escolha como deseja filtrar a visualização:\")\n",
    "  for i in range(0,len(lista[0])): print(str(i) + \" - \" + str(lista[0][i]))\n",
    "  coluna = input(\"> \")\n",
    "  \n",
    "  for i in range(1,len(lista)):\n",
    "    filtro.append(lista[i][int(coluna)])\n",
    "\n",
    "  counter = Counter(filtro) #conta IP com sua frequencia (em forma de dicionario)\n",
    "  s = counter.most_common() #organiza de forma decrescente a frequencia de cada IP para descobrir maiores valores\n",
    "  print(\"Os \" + str(x) + \" \" + str(sh.cell(1,int(coluna)+1).value) + \" mais frequentes foram:\")\n",
    "  for i in range(0,int(x)):\n",
    "    print(str(i+1) + \" - \" + str(s[i][0]) + \", usado \" + str(s[i][1]) + \" vezes.\") #IP e sua frequencia\n",
    "  \n",
    "  armazena_resumos = []\n",
    "  if lista[0][int(coluna)].upper()==\"IP SOURCE\" or lista[0][int(coluna)].upper()==\"HARDWARE SOURCE\" or lista[0][int(coluna)].upper()==\"IP DESTINATION\" or lista[0][int(coluna)].upper()==\"HARDWARE DESTINATION\":\n",
    "    x = input(\"Para visualizar mais informações sobre um IP específico, digite seu ID e pressione ENTER:\\n> \")\n",
    "    y = input(\"Deseja visualizar apenas ocorrências que contenham o protocolo DICOM? (S/N)\\n> \")\n",
    "\n",
    "    if y.upper()==\"S\": \n",
    "      for i in range(0,len(lista)):\n",
    "        if s[int(x)-1][0] == lista[i][int(coluna)] and lista[i][int(busca_protocolo(lista))]==\"DICOM\":\n",
    "          armazena_resumos.append(lista[i])\n",
    "    else:\n",
    "      for i in range(0,len(lista)):\n",
    "          armazena_resumos.append(lista[i])\n",
    "  \n",
    "  else:\n",
    "      for i in range(0,len(lista)):\n",
    "          armazena_resumos.append(lista[i])\n",
    "  print(\"Resumos do IP \" + str(s[int(x)-1][0]) + \":\")\n",
    "  gerador_resumo(armazena_resumos, 0) #gera os resumos de cada IP\n",
    "  salvar(armazena_resumos, s, 5)"
   ]
  },
  {
   "cell_type": "code",
   "execution_count": 74,
   "metadata": {
    "id": "MDM0bZ1JyWdV"
   },
   "outputs": [],
   "source": [
    "def busca_protocolo(lista):\n",
    "  id_coluna_protocol = 0\n",
    "  for i in lista[0]: \n",
    "    if i.upper()==\"PROTOCOL\" or i.upper()==\"PROTOCOLO\": break\n",
    "    id_coluna_protocol = id_coluna_protocol + 1\n",
    "  return id_coluna_protocol"
   ]
  },
  {
   "cell_type": "code",
   "execution_count": 75,
   "metadata": {
    "id": "rFTr1NgO29SH"
   },
   "outputs": [],
   "source": [
    "def verifica(lista, coluna, s):\n",
    "  armazena_resumos = []\n",
    "  xa = 0\n",
    "  print(coluna)\n",
    "  if lista[0][int(coluna)-1].upper()==\"IP SOURCE\" or lista[0][int(coluna)-1].upper()==\"HARDWARE SOURCE\" or lista[0][int(coluna)-1].upper()==\"IP DESTINATION\" or lista[0][int(coluna)-1].upper()==\"HARDWARE DESTINATION\":\n",
    "    xa = input(\"Para visualizar mais informações sobre um\" + str(coluna) + \n",
    "              \" específico, digite seu ID e pressione ENTER:\\n> \")\n",
    "    y = input(\"Deseja visualizar apenas ocorrências que contenham o protocolo DICOM? (S/N)\\n> \")\n",
    "    if y.upper()==\"S\": \n",
    "      if s[int(xa)-1][0] == lista[i][int(coluna)] and lista[i][int(outro(lista, coluna))]==\"DICOM\": \n",
    "        for i in range(0,len(lista)):\n",
    "          armazena_resumos.append(lista[i])\n",
    "    else:\n",
    "      for i in range(0,len(lista)):\n",
    "          armazena_resumos.append(lista[i])\n",
    "\n",
    "  print(\"Resumos do IP \" + str(s[int(xa)-1][0]) + \":\")\n",
    "  gerador_resumo(armazena_resumos, 0) #gera os resumos de cada IP"
   ]
  },
  {
   "cell_type": "code",
   "execution_count": 76,
   "metadata": {
    "id": "6h4J2WFpVhnm"
   },
   "outputs": [],
   "source": [
    "def filtra_protocolo():\n",
    "  #variavel para armazenar temporariamente os IPs\n",
    "  filtro = []\n",
    "  #input para escolher entre IP remetente e destinatario\n",
    "  x = input(\"Deseja visualizar apenas ocorrências correspondentes ao protocolo DICOM? (S/N) \\n> \")\n",
    "  if x==\"S\" or x==\"s\": \n",
    "    for i in range(0,len(lista)):\n",
    "      filtro.append(lista[i][1])\n",
    "    ha = Counter(filtro) #conta IP com sua frequencia (em forma de dicionario)\n",
    "    sa = ha.most_common() \n",
    "  elif x==\"N\" or x==\"n\":\n",
    "    return 1\n",
    "  return sa"
   ]
  },
  {
   "cell_type": "code",
   "execution_count": null,
   "metadata": {
    "id": "BHF8eFSYy2TE"
   },
   "outputs": [],
   "source": [
    "def gerador_resumo(armazena_resumos, j):\n",
    "  limite = j+4500 #limite da quantidade de informação impressa\n",
    "  while j < len(armazena_resumos):\n",
    "    if j>limite: break #impede sobrecarga\n",
    "    #impressão que mostra os detalhes referentes ao IP escolhido\n",
    "    print(str(j+1) + \" - \" + \n",
    "          str(armazena_resumos[j][4]) + \" (IP: \" + str(armazena_resumos[j][2]) + \") para \" + \n",
    "          str(armazena_resumos[j][5]) + \" (IP: \" + str(armazena_resumos[j][3]) + \") em \" + \n",
    "          str(armazena_resumos[j][0]) + \" atraves do protocolo \" + \n",
    "          str(armazena_resumos[j][1]) + \" com a info: \" + str(armazena_resumos[j][8]) +\n",
    "          \". Tamanho em bytes: \" + str(armazena_resumos[j][7]) + \". VLAN: \" + str(armazena_resumos[j][6]))\n",
    "\n",
    "    j+=1\n",
    "  x = input(\"Mostrando \" + str(j) + \" resultados. Deseja continuar visualizando? (S/N)\\n> \")\n",
    "  if x==\"S\" or x==\"s\": \n",
    "    if j<len(armazena_resumos): \n",
    "      gerador_resumo(armazena_resumos, j)"
   ]
  },
  {
   "cell_type": "code",
   "execution_count": 88,
   "metadata": {
    "id": "c7EUSvlaLnTr"
   },
   "outputs": [],
   "source": [
    "def salvar(lista, s, quant_maiores):\n",
    "  \n",
    "  #from openpyxl import load_workbook\n",
    "  arquivo_excel = Workbook()\n",
    "  planilha = arquivo_excel.create_sheet(\"Resumos\",1)\n",
    "  planilha2 = arquivo_excel.create_sheet(\"Mais frequentes\",0)\n",
    "\n",
    "  fillColumn = PatternFill(start_color='E0FFFF00',\n",
    "                   end_color='E0FFFF00',\n",
    "                   fill_type='solid')\n",
    "\n",
    "  planilha2['A1'] = 'TIPO'\n",
    "  planilha2['B1'] = 'FREQUENCIA'\n",
    "\n",
    "  for i in range(1,quant_maiores):\n",
    "    planilha2['A'+str(i+1)] = s[i-1][0]\n",
    "    planilha2['B'+str(i+1)] = s[i-1][1]\n",
    "    \n",
    "  #for i in range(1,sh.max_row):\n",
    "  #  for j in range(0,len(lista[0])):\n",
    "  #      planilha[str(string.ascii_lowercase[j])+str(i)] = lista[i-1][j]\n",
    "        #print(\"elemento: \"+str(string.ascii_lowercase[j])+str(i))\n",
    "        #print(planilha[str(string.ascii_lowercase[j])+str(i)])\n",
    "        #print(lista[i-1][j])\n",
    "    \n",
    "  #for i in range(0,len(lista[0])): \n",
    "  #  planilha[str(string.ascii_lowercase[i])+str(1)].fill = fillColumn  \n",
    "  \n",
    "    \n",
    "  arquivo_excel.save(\"relatorio.xlsx\")\n",
    "  arquivo_excel.close()"
   ]
  },
  {
   "cell_type": "code",
   "execution_count": 89,
   "metadata": {
    "id": "ZM96ncOBhVMY"
   },
   "outputs": [],
   "source": [
    "def menu():\n",
    "  x = input(\"Vamos começar! Quantos IPs gostaria de visualizar? ex.: 5\\n> \")\n",
    "  verifica_maiores(x)\n",
    "  return x"
   ]
  },
  {
   "cell_type": "code",
   "execution_count": null,
   "metadata": {
    "id": "fETHdP2AiEPU"
   },
   "outputs": [
    {
     "name": "stdout",
     "output_type": "stream",
     "text": [
      "Vamos começar! Quantos IPs gostaria de visualizar? ex.: 5\n",
      "> 5\n",
      "Escolha como deseja filtrar a visualização:\n",
      "0 - Time\n",
      "1 - Protocol\n",
      "2 - IP Source\n",
      "3 - IP Destination\n",
      "4 - Hardware Source\n",
      "5 - Hardware Destionation\n",
      "6 - VLAN\n",
      "7 - Length\n",
      "8 - Info\n",
      "> 3\n",
      "Os 5 IP Destination mais frequentes foram:\n",
      "1 - 10.65.137.46, usado 89059 vezes.\n",
      "2 - 10.65.143.5, usado 57750 vezes.\n",
      "3 - 10.65.143.4, usado 53205 vezes.\n",
      "4 - 10.65.143.7, usado 41554 vezes.\n",
      "5 - 10.65.142.81, usado 41489 vezes.\n",
      "Para visualizar mais informações sobre um IP específico, digite seu ID e pressione ENTER:\n",
      "> 17\n",
      "Deseja visualizar apenas ocorrências que contenham o protocolo DICOM? (S/N)\n",
      "> S\n",
      "Resumos do IP 10.65.143.6:\n",
      "1 - HewlettP_55:8f:6e-10.65.137.46-BrocadeC_ef:3c:6f-10.65.143.6-2021-02-22 13:43:26-DICOM-[TCP Previous segment not captured] P-DATA[Packet size limited during capture]-234-362\n",
      "2 - HewlettP_55:8f:6e-10.65.137.46-BrocadeC_ef:3c:6f-10.65.143.6-2021-02-22 15:35:16-DICOM-[TCP Previous segment not captured] P-DATA[Packet size limited during capture]-234-362\n",
      "3 - HewlettP_55:8f:6e-10.65.137.46-BrocadeC_ef:3c:6f-10.65.143.6-2021-02-22 18:51:18-DICOM-[TCP Previous segment not captured] P-DATA[Packet size limited during capture]-234-362\n",
      "4 - HewlettP_55:8f:6e-10.65.137.46-BrocadeC_ef:3c:6f-10.65.143.6-2021-02-22 20:04:34-DICOM-[TCP Previous segment not captured] P-DATA[Packet size limited during capture]-234-362\n",
      "5 - HewlettP_55:8f:6e-10.65.137.46-BrocadeC_ef:3c:6f-10.65.143.6-2021-02-22 20:49:04-DICOM-[TCP Previous segment not captured] P-DATA[Packet size limited during capture]-234-362\n",
      "6 - HewlettP_55:8f:6e-10.65.137.46-BrocadeC_ef:3c:6f-10.65.143.6-2021-02-22 21:04:10-DICOM-[TCP Previous segment not captured] P-DATA[Packet size limited during capture]-234-362\n",
      "7 - HewlettP_55:8f:6e-10.65.137.46-BrocadeC_ef:3c:6f-10.65.143.6-2021-02-23 15:51:33-DICOM-[TCP Previous segment not captured] P-DATA[Packet size limited during capture]-234-362\n",
      "8 - HewlettP_55:8f:6e-10.65.137.46-BrocadeC_ef:3c:6f-10.65.143.6-2021-02-23 15:53:04-DICOM-[TCP Previous segment not captured] P-DATA[Packet size limited during capture]-234-362\n",
      "9 - HewlettP_55:8f:6e-10.65.137.46-BrocadeC_ef:3c:6f-10.65.143.6-2021-02-23 17:00:50-DICOM-[TCP Previous segment not captured] P-DATA[Packet size limited during capture]-232-362\n",
      "10 - HewlettP_55:8f:6e-10.65.137.46-BrocadeC_ef:3c:6f-10.65.143.6-2021-02-23 18:30:33-DICOM-[TCP Previous segment not captured] P-DATA[Packet size limited during capture]-234-362\n",
      "11 - HewlettP_55:8f:6e-10.65.137.46-BrocadeC_ef:3c:6f-10.65.143.6-2021-02-23 18:30:56-DICOM-[TCP Previous segment not captured] P-DATA[Packet size limited during capture]-234-362\n",
      "12 - HewlettP_55:8f:6e-10.65.137.46-BrocadeC_ef:3c:6f-10.65.143.6-2021-02-23 18:32:16-DICOM-[TCP Previous segment not captured] P-DATA[Packet size limited during capture]-232-362\n",
      "13 - HewlettP_55:8f:6e-10.65.137.46-BrocadeC_ef:3c:6f-10.65.143.6-2021-02-23 18:52:43-DICOM-[TCP Previous segment not captured] P-DATA[Packet size limited during capture]-234-362\n",
      "14 - HewlettP_55:8f:6e-10.65.137.46-BrocadeC_ef:3c:6f-10.65.143.6-2021-02-23 19:09:19-DICOM-[TCP Previous segment not captured] P-DATA[Packet size limited during capture]-232-362\n",
      "15 - HewlettP_55:8f:6e-10.65.137.46-BrocadeC_ef:3c:6f-10.65.143.6-2021-02-23 19:10:13-DICOM-P-DATA[Packet size limited during capture]-232-362\n",
      "16 - HewlettP_55:8f:6e-10.65.137.46-BrocadeC_ef:3c:6f-10.65.143.6-2021-02-23 20:38:50-DICOM-[TCP Previous segment not captured] P-DATA[Packet size limited during capture]-232-362\n",
      "17 - HewlettP_55:8f:6e-10.65.137.46-BrocadeC_ef:3c:6f-10.65.143.6-2021-02-23 20:41:05-DICOM-[TCP Previous segment not captured] P-DATA[Packet size limited during capture]-232-362\n",
      "18 - HewlettP_55:8f:6e-10.65.137.46-BrocadeC_ef:3c:6f-10.65.143.6-2021-02-24 12:42:56-DICOM-[TCP Previous segment not captured] P-DATA[Packet size limited during capture]-234-362\n",
      "19 - HewlettP_55:8f:6e-10.65.137.46-BrocadeC_ef:3c:6f-10.65.143.6-2021-02-24 13:18:26-DICOM-[TCP Previous segment not captured] P-DATA[Packet size limited during capture]-234-362\n",
      "20 - HewlettP_55:8f:6e-10.65.137.46-BrocadeC_ef:3c:6f-10.65.143.6-2021-02-25 12:36:47-DICOM-[TCP Previous segment not captured] P-DATA[Packet size limited during capture]-234-362\n"
     ]
    }
   ],
   "source": [
    "menu()"
   ]
  },
  {
   "cell_type": "code",
   "execution_count": null,
   "metadata": {},
   "outputs": [],
   "source": []
  }
 ],
 "metadata": {
  "colab": {
   "collapsed_sections": [],
   "name": "hc-amostra.ipynb",
   "provenance": []
  },
  "kernelspec": {
   "display_name": "Python 3",
   "language": "python",
   "name": "python3"
  },
  "language_info": {
   "codemirror_mode": {
    "name": "ipython",
    "version": 3
   },
   "file_extension": ".py",
   "mimetype": "text/x-python",
   "name": "python",
   "nbconvert_exporter": "python",
   "pygments_lexer": "ipython3",
   "version": "3.8.8"
  }
 },
 "nbformat": 4,
 "nbformat_minor": 1
}
