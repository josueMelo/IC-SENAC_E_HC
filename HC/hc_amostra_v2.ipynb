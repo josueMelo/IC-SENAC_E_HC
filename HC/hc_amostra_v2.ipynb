{
 "cells": [
  {
   "cell_type": "code",
   "execution_count": 1,
   "metadata": {
    "id": "KLCGsdX_W_H9"
   },
   "outputs": [],
   "source": [
    "\"\"\"\n",
    "Higor Viana\n",
    "Josue Melo\n",
    "TCC do BCC: Senac & HC\n",
    "\"\"\"\n",
    "\n",
    "#bibliotecas usadas\n",
    "import pandas as pd\n",
    "from openpyxl import load_workbook\n",
    "from collections import Counter\n",
    "import datetime \n",
    "import numpy as np"
   ]
  },
  {
   "cell_type": "code",
   "execution_count": 2,
   "metadata": {
    "id": "vT3F0TUG8Tvz"
   },
   "outputs": [],
   "source": [
    "wb = load_workbook(\"amostra.xlsx\", data_only=True) #carregamento e leitura da planilha\n",
    "sh = wb[\"amostra\"] #seleção do primeira (ou ativa) aba do arquivo .xlsx"
   ]
  },
  {
   "cell_type": "code",
   "execution_count": 3,
   "metadata": {
    "colab": {
     "base_uri": "https://localhost:8080/"
    },
    "id": "-211CQB9jJGX",
    "outputId": "9f4f3926-5433-43ba-ec8c-3041bda9beb1"
   },
   "outputs": [
    {
     "name": "stdout",
     "output_type": "stream",
     "text": [
      "('Day', 'Hour', 'Source', 'Destination', 'Protocol', 'Length', 'Info', None, None)\n"
     ]
    }
   ],
   "source": [
    "#def gerador_lista():\n",
    "#rotulos = []\n",
    "lista = [] #lista que armazenará valores da planilha\n",
    "for linha in range(1,sh.max_row+1): #linha inicia no 2 para armazenagem (descartando rotulos das colunas)\n",
    "#for i in range(1,sh.max_column): \n",
    "#'Time' : sh.cell(linha,1).value, \n",
    "#'Protocol' : sh.cell(linha,2).value, \n",
    "#'Source' : sh.cell(linha,3).value, \n",
    "#'Destination' : sh.cell(linha,4).value, \n",
    "#'Hardware Source' : sh.cell(linha,5).value,          \n",
    "#'Hardware Destination' : sh.cell(linha,6).value, \n",
    "#'VLAN' : sh.cell(linha,7).value}, \n",
    "#'Lenght' : sh.cell(linha,8).value}, bytes\n",
    "#'Info' : sh.cell(linha,9).value}\n",
    "  lista.append((\n",
    "    sh.cell(linha,1).value,   \n",
    "    sh.cell(linha,2).value, \n",
    "    sh.cell(linha,3).value, \n",
    "    sh.cell(linha,4).value, \n",
    "    sh.cell(linha,5).value, \n",
    "    sh.cell(linha,6).value,      \n",
    "    sh.cell(linha,7).value, \n",
    "    sh.cell(linha,8).value, \n",
    "    sh.cell(linha,9).value))\n",
    "print(lista[0])"
   ]
  },
  {
   "cell_type": "code",
   "execution_count": 4,
   "metadata": {
    "id": "5bEWrEb4xbqi"
   },
   "outputs": [],
   "source": [
    "def verifica_maiores(x):\n",
    "  #variavel para armazenar temporariamente os IPs\n",
    "  filtro = []\n",
    "  #input para escolher entre IP remetente e destinatario\n",
    "  print(\"Escolha como deseja filtrar a visualização:\")\n",
    "  for i in range(0,len(lista[0])): print(str(i) + \" - \" + str(lista[0][i]))\n",
    "  coluna = input(\"> \")\n",
    "  #se inserido cod errado, retorne \n",
    "\n",
    "#'Time' : sh.cell(linha,1).value, \n",
    "#'Protocol' : sh.cell(linha,2).value, \n",
    "#'Source' : sh.cell(linha,3).value, \n",
    "#'Destination' : sh.cell(linha,4).value, \n",
    "#'Hardware Source' : sh.cell(linha,5).value,          \n",
    "#'Hardware Destination' : sh.cell(linha,6).value, \n",
    "#'VLAN' : sh.cell(linha,7).value}, \n",
    "#'Lenght' : sh.cell(linha,8).value}, bytes\n",
    "#'Info' : sh.cell(linha,9).value}\n",
    "\n",
    "  for i in range(1,len(lista)):\n",
    "    filtro.append(lista[i][int(coluna)])\n",
    "\n",
    "  counter = Counter(filtro) #conta IP com sua frequencia (em forma de dicionario)\n",
    "  s = counter.most_common() #organiza de forma decrescente a frequencia de cada IP para descobrir maiores valores\n",
    "  print(\"Os \" + str(x) + \" \" + str(sh.cell(1,int(coluna)+1).value) + \" mais frequentes foram:\")\n",
    "  for i in range(0,int(x)):\n",
    "    print(str(i+1) + \" - \" + str(s[i][0]) + \", usado \" + str(s[i][1]) + \" vezes.\") #IP e sua frequencia\n",
    "  \n",
    "  verifica(coluna, s)\n",
    "\n",
    "  #x = input(\"Para visualizar mais informações sobre um IP específico, digite seu ID e pressione ENTER:\\n> \")\n",
    "\n",
    "  #armazena_resumos = [] \n",
    "  #for i in range(0,len(lista)):\n",
    "    #comparação para saber se valor armazenado é o mesmo que desejado na busca\n",
    "  #  if s[int(x)-1][0] == lista[i][int(coluna)+1]: armazena_resumos.append(lista[i]) \n",
    "  #print(\"Resumos do IP \" + str(s[int(x)-1][0]) + \":\")\n",
    "  #gerador_resumo(armazena_resumos, 0) #gera os resumos de cada IP"
   ]
  },
  {
   "cell_type": "code",
   "execution_count": 5,
   "metadata": {
    "id": "MDM0bZ1JyWdV"
   },
   "outputs": [],
   "source": [
    "def outro(lista, coluna):\n",
    "  id_coluna_protocol = 0\n",
    "  for i in lista[0]: \n",
    "    if i.upper()==\"PROTOCOL\" or i.upper()==\"PROTOCOLO\": break\n",
    "    id_coluna_protocol = id_coluna_protocol + 1\n",
    "  return id_coluna_protocol\n",
    "  #if \n",
    "  #x = input(\"Para visualizar mais informações sobre um IP específico, digite seu ID e pressione ENTER:\\n> \")\n",
    "\n",
    "  #armazena_resumos = [] \n",
    "  #for i in range(0,len(lista)):\n",
    "    #comparação para saber se valor armazenado é o mesmo que desejado na busca\n",
    "  #  if s[int(x)-1][0] == lista[i][int(coluna)+1]: armazena_resumos.append(lista[i]) \n",
    "  #print(\"Resumos do IP \" + str(s[int(x)-1][0]) + \":\")\n",
    "  #gerador_resumo(armazena_resumos, 0) #gera os resumos de cada IP"
   ]
  },
  {
   "cell_type": "code",
   "execution_count": 6,
   "metadata": {
    "id": "rFTr1NgO29SH"
   },
   "outputs": [],
   "source": [
    "def verifica(coluna, s):\n",
    "  armazena_resumos = [] \n",
    "  if coluna.upper()==\"IP SOURCE\" or coluna.upper()==\"HARDWARE SOURCE\" or coluna.upper()==\"IP DESTINATION\" or coluna.upper()==\"HARDWARE DESTINATION\":\n",
    "    xa = input(\"Para visualizar mais informações sobre um\" + str(coluna) + \n",
    "              \" específico, digite seu ID e pressione ENTER:\\n> \")\n",
    "    y = input(\"Deseja visualizar apenas ocorrências que contenham o protocolo DICOM? (S/N)\\n> \")\n",
    "    if y.upper()==\"S\": \n",
    "      if s[int(xa)-1][0] == lista[i][int(coluna)] and lista[i][int(outro(lista, coluna))]==\"DICOM\": \n",
    "        for i in range(0,len(lista)):\n",
    "          armazena_resumos.append(lista[i])\n",
    "    else:\n",
    "      for i in range(0,len(lista)):\n",
    "          armazena_resumos.append(lista[i])\n",
    "\n",
    "  print(\"Resumos do IP \" + str(s[int(xa)-1][0]) + \":\")\n",
    "  gerador_resumo(armazena_resumos, 0) #gera os resumos de cada IP"
   ]
  },
  {
   "cell_type": "code",
   "execution_count": 7,
   "metadata": {
    "id": "6h4J2WFpVhnm"
   },
   "outputs": [],
   "source": [
    "def filtra_protocolo():\n",
    "  #variavel para armazenar temporariamente os IPs\n",
    "  filtro = []\n",
    "  #input para escolher entre IP remetente e destinatario\n",
    "  x = input(\"Deseja visualizar apenas ocorrências correspondentes ao protocolo DICOM? (S/N) \\n> \")\n",
    "  if x==\"S\" or x==\"s\": \n",
    "    for i in range(0,len(lista)):\n",
    "      filtro.append(lista[i][1])\n",
    "    ha = Counter(filtro) #conta IP com sua frequencia (em forma de dicionario)\n",
    "    sa = ha.most_common() \n",
    "  elif x==\"N\" or x==\"n\":\n",
    "    return 1\n",
    "  return sa"
   ]
  },
  {
   "cell_type": "code",
   "execution_count": 8,
   "metadata": {
    "id": "BHF8eFSYy2TE"
   },
   "outputs": [],
   "source": [
    "def gerador_resumo(armazena_resumos, j):\n",
    "  limite = j+4500 #limite da quantidade de informação impressa\n",
    "  while j < len(armazena_resumos):\n",
    "    if j>limite: break #impede sobrecarga\n",
    "    #impressão que mostra os detalhes referentes ao IP escolhido\n",
    "    print(str(j+1) + \" - \" + \n",
    "          str(armazena_resumos[j][4]) + \" (IP: \" + str(armazena_resumos[j][2]) + \") para \" + \n",
    "          str(armazena_resumos[j][5]) + \" (IP: \" + str(armazena_resumos[j][3]) + \") em \" + \n",
    "          str(armazena_resumos[j][0]) + \" atraves do protocolo \" + \n",
    "          str(armazena_resumos[j][1]) + \" com a info: \" + str(armazena_resumos[j][8]) +\n",
    "          \". Tamanho em bytes: \" + str(armazena_resumos[j][7]) + \". VLAN: \" + str(armazena_resumos[j][6]))\n",
    "\n",
    "    j+=1\n",
    "  x = input(\"Mostrando \" + str(j) + \" resultados. Deseja continuar visualizando? (S/N)\\n> \")\n",
    "  if x==\"S\" or x==\"s\": \n",
    "    if j<len(armazena_resumos): \n",
    "      gerador_resumo(armazena_resumos, j)"
   ]
  },
  {
   "cell_type": "code",
   "execution_count": 9,
   "metadata": {
    "id": "ZM96ncOBhVMY"
   },
   "outputs": [],
   "source": [
    "def menu():\n",
    "  x = input(\"Vamos começar! Quantos IPs gostaria de visualizar? ex.: 5\\n> \")\n",
    "  verifica_maiores(x)"
   ]
  },
  {
   "cell_type": "code",
   "execution_count": 92,
   "metadata": {
    "colab": {
     "base_uri": "https://localhost:8080/",
     "height": 655
    },
    "id": "fETHdP2AiEPU",
    "outputId": "0f1621b6-8ff5-4a19-d17d-71bc8c031157"
   },
   "outputs": [
    {
     "name": "stdout",
     "output_type": "stream",
     "text": [
      "Vamos começar! Quantos IPs gostaria de visualizar? ex.: 5\n",
      "> 5\n",
      "Escolha como deseja filtrar a visualização:\n",
      "0 - Time\n",
      "1 - Protocol\n",
      "2 - IP Source\n",
      "3 - IP Destination\n",
      "4 - Hardware Source\n",
      "5 - Hardware Destionation\n",
      "6 - VLAN\n",
      "7 - Length\n",
      "8 - Info\n",
      "> 2\n",
      "Os 5 IP Source mais frequentes foram:\n",
      "1 - 10.65.137.46, usado 423348 vezes.\n",
      "2 - 10.65.142.81, usado 27353 vezes.\n",
      "3 - 10.65.142.82, usado 20529 vezes.\n",
      "4 - 10.65.142.83, usado 8493 vezes.\n",
      "5 - 10.65.136.126, usado 7259 vezes.\n"
     ]
    },
    {
     "ename": "UnboundLocalError",
     "evalue": "ignored",
     "output_type": "error",
     "traceback": [
      "\u001b[0;31m---------------------------------------------------------------------------\u001b[0m",
      "\u001b[0;31mUnboundLocalError\u001b[0m                         Traceback (most recent call last)",
      "\u001b[0;32m<ipython-input-92-a554a8713acc>\u001b[0m in \u001b[0;36m<module>\u001b[0;34m()\u001b[0m\n\u001b[0;32m----> 1\u001b[0;31m \u001b[0mmenu\u001b[0m\u001b[0;34m(\u001b[0m\u001b[0;34m)\u001b[0m\u001b[0;34m\u001b[0m\u001b[0;34m\u001b[0m\u001b[0m\n\u001b[0m",
      "\u001b[0;32m<ipython-input-81-4fb91ea2bb7f>\u001b[0m in \u001b[0;36mmenu\u001b[0;34m()\u001b[0m\n\u001b[1;32m      1\u001b[0m \u001b[0;32mdef\u001b[0m \u001b[0mmenu\u001b[0m\u001b[0;34m(\u001b[0m\u001b[0;34m)\u001b[0m\u001b[0;34m:\u001b[0m\u001b[0;34m\u001b[0m\u001b[0;34m\u001b[0m\u001b[0m\n\u001b[1;32m      2\u001b[0m   \u001b[0mx\u001b[0m \u001b[0;34m=\u001b[0m \u001b[0minput\u001b[0m\u001b[0;34m(\u001b[0m\u001b[0;34m\"Vamos começar! Quantos IPs gostaria de visualizar? ex.: 5\\n> \"\u001b[0m\u001b[0;34m)\u001b[0m\u001b[0;34m\u001b[0m\u001b[0;34m\u001b[0m\u001b[0m\n\u001b[0;32m----> 3\u001b[0;31m   \u001b[0mverifica_maiores\u001b[0m\u001b[0;34m(\u001b[0m\u001b[0mx\u001b[0m\u001b[0;34m)\u001b[0m\u001b[0;34m\u001b[0m\u001b[0;34m\u001b[0m\u001b[0m\n\u001b[0m",
      "\u001b[0;32m<ipython-input-89-f479ba2bb58d>\u001b[0m in \u001b[0;36mverifica_maiores\u001b[0;34m(x)\u001b[0m\n\u001b[1;32m     27\u001b[0m     \u001b[0mprint\u001b[0m\u001b[0;34m(\u001b[0m\u001b[0mstr\u001b[0m\u001b[0;34m(\u001b[0m\u001b[0mi\u001b[0m\u001b[0;34m+\u001b[0m\u001b[0;36m1\u001b[0m\u001b[0;34m)\u001b[0m \u001b[0;34m+\u001b[0m \u001b[0;34m\" - \"\u001b[0m \u001b[0;34m+\u001b[0m \u001b[0mstr\u001b[0m\u001b[0;34m(\u001b[0m\u001b[0ms\u001b[0m\u001b[0;34m[\u001b[0m\u001b[0mi\u001b[0m\u001b[0;34m]\u001b[0m\u001b[0;34m[\u001b[0m\u001b[0;36m0\u001b[0m\u001b[0;34m]\u001b[0m\u001b[0;34m)\u001b[0m \u001b[0;34m+\u001b[0m \u001b[0;34m\", usado \"\u001b[0m \u001b[0;34m+\u001b[0m \u001b[0mstr\u001b[0m\u001b[0;34m(\u001b[0m\u001b[0ms\u001b[0m\u001b[0;34m[\u001b[0m\u001b[0mi\u001b[0m\u001b[0;34m]\u001b[0m\u001b[0;34m[\u001b[0m\u001b[0;36m1\u001b[0m\u001b[0;34m]\u001b[0m\u001b[0;34m)\u001b[0m \u001b[0;34m+\u001b[0m \u001b[0;34m\" vezes.\"\u001b[0m\u001b[0;34m)\u001b[0m \u001b[0;31m#IP e sua frequencia\u001b[0m\u001b[0;34m\u001b[0m\u001b[0;34m\u001b[0m\u001b[0m\n\u001b[1;32m     28\u001b[0m \u001b[0;34m\u001b[0m\u001b[0m\n\u001b[0;32m---> 29\u001b[0;31m   \u001b[0mverifica\u001b[0m\u001b[0;34m(\u001b[0m\u001b[0mcoluna\u001b[0m\u001b[0;34m,\u001b[0m \u001b[0ms\u001b[0m\u001b[0;34m)\u001b[0m\u001b[0;34m\u001b[0m\u001b[0;34m\u001b[0m\u001b[0m\n\u001b[0m\u001b[1;32m     30\u001b[0m \u001b[0;34m\u001b[0m\u001b[0m\n\u001b[1;32m     31\u001b[0m   \u001b[0;31m#x = input(\"Para visualizar mais informações sobre um IP específico, digite seu ID e pressione ENTER:\\n> \")\u001b[0m\u001b[0;34m\u001b[0m\u001b[0;34m\u001b[0m\u001b[0;34m\u001b[0m\u001b[0m\n",
      "\u001b[0;32m<ipython-input-91-4efbb71a7922>\u001b[0m in \u001b[0;36mverifica\u001b[0;34m(coluna, s)\u001b[0m\n\u001b[1;32m     13\u001b[0m           \u001b[0marmazena_resumos\u001b[0m\u001b[0;34m.\u001b[0m\u001b[0mappend\u001b[0m\u001b[0;34m(\u001b[0m\u001b[0mlista\u001b[0m\u001b[0;34m[\u001b[0m\u001b[0mi\u001b[0m\u001b[0;34m]\u001b[0m\u001b[0;34m)\u001b[0m\u001b[0;34m\u001b[0m\u001b[0;34m\u001b[0m\u001b[0m\n\u001b[1;32m     14\u001b[0m \u001b[0;34m\u001b[0m\u001b[0m\n\u001b[0;32m---> 15\u001b[0;31m   \u001b[0mprint\u001b[0m\u001b[0;34m(\u001b[0m\u001b[0;34m\"Resumos do IP \"\u001b[0m \u001b[0;34m+\u001b[0m \u001b[0mstr\u001b[0m\u001b[0;34m(\u001b[0m\u001b[0ms\u001b[0m\u001b[0;34m[\u001b[0m\u001b[0mint\u001b[0m\u001b[0;34m(\u001b[0m\u001b[0mxa\u001b[0m\u001b[0;34m)\u001b[0m\u001b[0;34m-\u001b[0m\u001b[0;36m1\u001b[0m\u001b[0;34m]\u001b[0m\u001b[0;34m[\u001b[0m\u001b[0;36m0\u001b[0m\u001b[0;34m]\u001b[0m\u001b[0;34m)\u001b[0m \u001b[0;34m+\u001b[0m \u001b[0;34m\":\"\u001b[0m\u001b[0;34m)\u001b[0m\u001b[0;34m\u001b[0m\u001b[0;34m\u001b[0m\u001b[0m\n\u001b[0m\u001b[1;32m     16\u001b[0m   \u001b[0mgerador_resumo\u001b[0m\u001b[0;34m(\u001b[0m\u001b[0marmazena_resumos\u001b[0m\u001b[0;34m,\u001b[0m \u001b[0;36m0\u001b[0m\u001b[0;34m)\u001b[0m \u001b[0;31m#gera os resumos de cada IP\u001b[0m\u001b[0;34m\u001b[0m\u001b[0;34m\u001b[0m\u001b[0m\n",
      "\u001b[0;31mUnboundLocalError\u001b[0m: local variable 'xa' referenced before assignment"
     ]
    }
   ],
   "source": [
    "menu()"
   ]
  }
 ],
 "metadata": {
  "colab": {
   "collapsed_sections": [],
   "name": "hc-amostra.ipynb",
   "provenance": []
  },
  "kernelspec": {
   "display_name": "Python 3",
   "language": "python",
   "name": "python3"
  },
  "language_info": {
   "codemirror_mode": {
    "name": "ipython",
    "version": 3
   },
   "file_extension": ".py",
   "mimetype": "text/x-python",
   "name": "python",
   "nbconvert_exporter": "python",
   "pygments_lexer": "ipython3",
   "version": "3.8.8"
  }
 },
 "nbformat": 4,
 "nbformat_minor": 1
}
